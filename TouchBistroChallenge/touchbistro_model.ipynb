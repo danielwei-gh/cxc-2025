{
 "cells": [
  {
   "cell_type": "code",
   "execution_count": null,
   "metadata": {},
   "outputs": [],
   "source": [
    "import pickle\n",
    "import pandas as pd\n",
    "import numpy as np\n",
    "import matplotlib.pyplot as plt\n",
    "import xgboost as xgb\n",
    "\n",
    "print(f\"Pandas version: {pd.__version__}\")\n",
    "print(f\"NumPy version: {np.__version__}\")\n",
    "print(f\"XGBoost version: {xgb.__version__}\")"
   ]
  },
  {
   "cell_type": "markdown",
   "metadata": {},
   "source": [
    "Forecast Sales Revenue"
   ]
  },
  {
   "cell_type": "code",
   "execution_count": null,
   "metadata": {},
   "outputs": [],
   "source": [
    "# Change input features here\n",
    "business_date = '01/07/2025'\n",
    "venue_xref_id = '6ba501a035db17bd76f4379d22146d404a92643f527c961c2e954bf652846385'\n",
    "concept = 'FAMILY_DINING'\n",
    "city = 'Seattle'\n",
    "country = 'US'"
   ]
  },
  {
   "cell_type": "code",
   "execution_count": null,
   "metadata": {},
   "outputs": [],
   "source": [
    "forecast = pd.DataFrame(data={'business_date': [pd.Timestamp(business_date)],\n",
    "                                'venue_xref_id': [venue_xref_id],\n",
    "                                'concept': [concept],\n",
    "                                'city': [city],\n",
    "                                'country': [country]})"
   ]
  },
  {
   "cell_type": "code",
   "execution_count": null,
   "metadata": {},
   "outputs": [],
   "source": [
    "forecast"
   ]
  },
  {
   "cell_type": "code",
   "execution_count": null,
   "metadata": {},
   "outputs": [],
   "source": [
    "def create_features(df: pd.DataFrame) -> pd.DataFrame:\n",
    "    \"\"\"\n",
    "    Create new features for the data.\n",
    "    \"\"\"\n",
    "    df = df.copy()\n",
    "\n",
    "    # Add new features\n",
    "    df['day_of_week'] = df['business_date'].dt.day_of_week\n",
    "    df['day_of_year'] = df['business_date'].dt.day_of_year\n",
    "    df['month'] = df['business_date'].dt.month\n",
    "    df['quarter'] = df['business_date'].dt.quarter\n",
    "\n",
    "    return df\n",
    "\n",
    "def encode_categorical(df: pd.DataFrame, encoder, features: list) -> pd.DataFrame:\n",
    "    df = df.copy()\n",
    "\n",
    "    # Encode categorical data\n",
    "    df = encoder.transform(df)\n",
    "\n",
    "    # Specify categorical data type for XGBoost\n",
    "    df[features] = df[features].astype('category')\n",
    "\n",
    "    return df"
   ]
  },
  {
   "cell_type": "code",
   "execution_count": null,
   "metadata": {},
   "outputs": [],
   "source": [
    "# Load the encoder to transform the forecast data\n",
    "with open('encoder.obj', 'rb') as f:\n",
    "    encoder = pickle.load(f)"
   ]
  },
  {
   "cell_type": "code",
   "execution_count": null,
   "metadata": {},
   "outputs": [],
   "source": [
    "FEATURES = ['venue_xref_id', 'concept', 'city', 'country', \n",
    "            'day_of_week', 'day_of_year', 'month', 'quarter']\n",
    "\n",
    "forecast = create_features(forecast)\n",
    "forecast.drop(columns='business_date', inplace=True)\n",
    "\n",
    "forecast = encode_categorical(forecast, encoder, FEATURES)\n",
    "forecast"
   ]
  },
  {
   "cell_type": "code",
   "execution_count": null,
   "metadata": {},
   "outputs": [],
   "source": [
    "touchbistro_forecaster = xgb.XGBRegressor()\n",
    "touchbistro_forecaster.load_model('CxC_TouchBistro_Forecaster.json')"
   ]
  },
  {
   "cell_type": "code",
   "execution_count": null,
   "metadata": {},
   "outputs": [],
   "source": [
    "sales_revenue_with_tax = touchbistro_forecaster.predict(forecast)\n",
    "print(f'Forecasted Sales Revenue for {venue_xref_id}:')\n",
    "print(f'{business_date}: ${sales_revenue_with_tax.item():.2f}')"
   ]
  },
  {
   "cell_type": "code",
   "execution_count": null,
   "metadata": {},
   "outputs": [],
   "source": []
  }
 ],
 "metadata": {
  "kernelspec": {
   "display_name": "cxc_touchbistro_challenge",
   "language": "python",
   "name": "python3"
  },
  "language_info": {
   "codemirror_mode": {
    "name": "ipython",
    "version": 3
   },
   "file_extension": ".py",
   "mimetype": "text/x-python",
   "name": "python",
   "nbconvert_exporter": "python",
   "pygments_lexer": "ipython3",
   "version": "3.12.3"
  }
 },
 "nbformat": 4,
 "nbformat_minor": 2
}
